{
 "cells": [
  {
   "cell_type": "code",
   "execution_count": 1,
   "id": "c7918b39-ec86-4173-8230-7857a600bec0",
   "metadata": {},
   "outputs": [
    {
     "name": "stdout",
     "output_type": "stream",
     "text": [
      "Processing /notebooks/models\n",
      "  Preparing metadata (setup.py) ... \u001b[?25ldone\n",
      "\u001b[?25hRequirement already satisfied: fastcore in /usr/local/lib/python3.9/dist-packages (from models==0.0.1) (1.5.27)\n",
      "Requirement already satisfied: pandas in /usr/local/lib/python3.9/dist-packages (from models==0.0.1) (1.4.3)\n",
      "Collecting einops\n",
      "  Downloading einops-0.7.0-py3-none-any.whl (44 kB)\n",
      "\u001b[2K     \u001b[90m━━━━━━━━━━━━━━━━━━━━━━━━━━━━━━━━━━━━━━━━\u001b[0m \u001b[32m44.6/44.6 kB\u001b[0m \u001b[31m12.8 MB/s\u001b[0m eta \u001b[36m0:00:00\u001b[0m\n",
      "\u001b[?25hCollecting torchview\n",
      "  Downloading torchview-0.2.6-py3-none-any.whl (25 kB)\n",
      "Requirement already satisfied: packaging in /usr/local/lib/python3.9/dist-packages (from fastcore->models==0.0.1) (21.3)\n",
      "Requirement already satisfied: pip in /usr/local/lib/python3.9/dist-packages (from fastcore->models==0.0.1) (22.2.2)\n",
      "Requirement already satisfied: numpy>=1.18.5 in /usr/local/lib/python3.9/dist-packages (from pandas->models==0.0.1) (1.23.1)\n",
      "Requirement already satisfied: pytz>=2020.1 in /usr/local/lib/python3.9/dist-packages (from pandas->models==0.0.1) (2022.1)\n",
      "Requirement already satisfied: python-dateutil>=2.8.1 in /usr/local/lib/python3.9/dist-packages (from pandas->models==0.0.1) (2.8.2)\n",
      "Requirement already satisfied: six>=1.5 in /usr/lib/python3/dist-packages (from python-dateutil>=2.8.1->pandas->models==0.0.1) (1.14.0)\n",
      "Requirement already satisfied: pyparsing!=3.0.5,>=2.0.2 in /usr/local/lib/python3.9/dist-packages (from packaging->fastcore->models==0.0.1) (3.0.9)\n",
      "Building wheels for collected packages: models\n",
      "  Building wheel for models (setup.py) ... \u001b[?25ldone\n",
      "\u001b[?25h  Created wheel for models: filename=models-0.0.1-py3-none-any.whl size=10745 sha256=36b35717d368f6f8f604cc35538614bf3e79bf4b84043e8a380fb0c38aaa5ad9\n",
      "  Stored in directory: /tmp/pip-ephem-wheel-cache-k332y4uq/wheels/d4/99/08/10bcddeaa78ca254318eb9ff04a0b48eadc40b810a599da6bf\n",
      "Successfully built models\n",
      "Installing collected packages: torchview, einops, models\n",
      "Successfully installed einops-0.7.0 models-0.0.1 torchview-0.2.6\n",
      "\u001b[33mWARNING: Running pip as the 'root' user can result in broken permissions and conflicting behaviour with the system package manager. It is recommended to use a virtual environment instead: https://pip.pypa.io/warnings/venv\u001b[0m\u001b[33m\n",
      "\u001b[0m"
     ]
    }
   ],
   "source": [
    "!pip install . "
   ]
  },
  {
   "cell_type": "code",
   "execution_count": null,
   "id": "56359a7f-6a2f-4327-9944-3f4d864a4c82",
   "metadata": {},
   "outputs": [],
   "source": []
  }
 ],
 "metadata": {
  "kernelspec": {
   "display_name": "Python 3 (ipykernel)",
   "language": "python",
   "name": "python3"
  },
  "language_info": {
   "codemirror_mode": {
    "name": "ipython",
    "version": 3
   },
   "file_extension": ".py",
   "mimetype": "text/x-python",
   "name": "python",
   "nbconvert_exporter": "python",
   "pygments_lexer": "ipython3",
   "version": "3.9.13"
  }
 },
 "nbformat": 4,
 "nbformat_minor": 5
}
